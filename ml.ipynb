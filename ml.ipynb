{
  "nbformat": 4,
  "nbformat_minor": 0,
  "metadata": {
    "colab": {
      "provenance": [],
      "authorship_tag": "ABX9TyPsgdOmu2Fi1fhCwRZvJXMK",
      "include_colab_link": true
    },
    "kernelspec": {
      "name": "python3",
      "display_name": "Python 3"
    },
    "language_info": {
      "name": "python"
    }
  },
  "cells": [
    {
      "cell_type": "markdown",
      "metadata": {
        "id": "view-in-github",
        "colab_type": "text"
      },
      "source": [
        "<a href=\"https://colab.research.google.com/github/payal500/practice-series-/blob/main/ml.ipynb\" target=\"_parent\"><img src=\"https://colab.research.google.com/assets/colab-badge.svg\" alt=\"Open In Colab\"/></a>"
      ]
    },
    {
      "cell_type": "markdown",
      "source": [
        "supervised\n",
        "\n",
        "Regression- we have continuous data, labeled data/target is provided ex- salary, age\n",
        "\n",
        "Classification- we have binary classes or multi classes ex- yes no, 0 1 , target value/output value is provided\n",
        "\n",
        "Unsuppervised\n",
        "\n",
        "cluster- customer segmentation is best ex for cluster. we grouped same features in sigle grp ex- poor, middle class, rich and there is unlabeled data means no output/target given\n",
        "\n",
        "Dimession reduction- allgortihm PCA, LDA to reduce the dimmension ex- 100000 to 100  "
      ],
      "metadata": {
        "id": "kaV6JnPmRG4-"
      }
    },
    {
      "cell_type": "markdown",
      "source": [
        "SUpervised learning allgorithm\n",
        "\n",
        "1 linear regression\n",
        "2logistic regression\n",
        "3 lasso & ridge\n",
        "4 knn\n",
        "5 svm\n",
        "6 decision tree\n",
        "7 ada boost\n",
        "8 Random forest\n",
        "9 gradent boost\n",
        "10 xg boost\n",
        "11 naye baiys\n"
      ],
      "metadata": {
        "id": "bvYEoT3qSZYP"
      }
    },
    {
      "cell_type": "markdown",
      "source": [
        "Un suppervised learning\n",
        "\n",
        "1 k mean cluster\n",
        "2 DB Scan\n",
        "3 Hierarchal clustering\n",
        "4 K Nearest Neighbour clustering\n",
        "5 PCA\n",
        "6 LDA"
      ],
      "metadata": {
        "id": "U6Gfwh6CTj2n"
      }
    },
    {
      "cell_type": "code",
      "source": [],
      "metadata": {
        "id": "KMrxGD21T5hW"
      },
      "execution_count": null,
      "outputs": []
    }
  ]
}